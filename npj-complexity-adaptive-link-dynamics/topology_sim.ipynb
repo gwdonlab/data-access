{
 "cells": [
  {
   "cell_type": "code",
   "execution_count": null,
   "metadata": {
    "scrolled": true
   },
   "outputs": [],
   "source": [
    "import pandas as pd\n",
    "import numpy as np\n",
    "import matplotlib.pyplot as plt\n",
    "import networkx as nx\n",
    "import copy, random, warnings\n",
    "\n",
    "warnings.filterwarnings(\"ignore\")"
   ]
  },
  {
   "cell_type": "code",
   "execution_count": null,
   "metadata": {},
   "outputs": [],
   "source": [
    "df = pd.read_csv(\"network_edgelist.csv\").dropna()\n",
    "weight_edge_all = copy.deepcopy(df)\n",
    "df[\"target_hate\"] = df[\"target\"].apply(lambda s: int(s.split(\"__\")[1]) < 1000000)\n",
    "df[\"source_sns\"] = df[\"source\"].apply(lambda s: s.split(\"__\")[0])\n",
    "df[\"target_sns\"] = df[\"target\"].apply(lambda s: s.split(\"__\")[0])"
   ]
  },
  {
   "cell_type": "code",
   "execution_count": null,
   "metadata": {},
   "outputs": [],
   "source": [
    "s_node = df[[\"source\", \"source_sns\"]]\n",
    "t_node = df[[\"target\", \"target_sns\"]]\n",
    "s_node = s_node.drop_duplicates(keep=\"first\")\n",
    "t_node = t_node.drop_duplicates(keep=\"first\")\n",
    "s_node.columns = [\"id\", \"type\"]\n",
    "t_node.columns = [\"id\", \"type\"]\n",
    "node = s_node._append(t_node)\n",
    "node = node.drop_duplicates(subset=[\"id\"], keep=\"first\")\n",
    "n_count = node.groupby([\"type\"])[\"id\"].count().reset_index(name=\"count\")"
   ]
  },
  {
   "cell_type": "code",
   "execution_count": null,
   "metadata": {},
   "outputs": [],
   "source": [
    "df_hate = df[df[\"target_hate\"]]\n",
    "snode = df_hate[[\"source\", \"source_sns\"]].drop_duplicates(keep=\"first\")\n",
    "tnode = df_hate[[\"target\", \"target_sns\"]].drop_duplicates(keep=\"first\")\n",
    "snode.columns = [\"id\", \"type\"]\n",
    "tnode.columns = [\"id\", \"type\"]\n",
    "Hate_node = snode._append(tnode)\n",
    "Hate_node = Hate_node.drop_duplicates(subset=[\"id\"], keep=\"first\")"
   ]
  },
  {
   "cell_type": "code",
   "execution_count": null,
   "metadata": {},
   "outputs": [],
   "source": [
    "hate_list = list(Hate_node[\"id\"])\n",
    "noHate_node = node[~node[\"id\"].isin(hate_list)]\n",
    "nohate_list = list(set(noHate_node[\"id\"]))"
   ]
  },
  {
   "cell_type": "code",
   "execution_count": null,
   "metadata": {},
   "outputs": [],
   "source": [
    "Hate_node[\"sign\"] = np.arange(1, Hate_node.shape[0] + 1, 1)\n",
    "noHate_node[\"sign\"] = np.arange(1, noHate_node.shape[0] + 1, 1)\n",
    "\n",
    "n_Hate_node = len(Hate_node)\n",
    "n_noHate_node = len(noHate_node)"
   ]
  },
  {
   "cell_type": "code",
   "execution_count": null,
   "metadata": {},
   "outputs": [],
   "source": [
    "cols = list(np.arange(0, 1, 0.05))\n",
    "r = 100"
   ]
  },
  {
   "cell_type": "code",
   "execution_count": null,
   "metadata": {},
   "outputs": [],
   "source": [
    "smax_h_all = pd.DataFrame()\n",
    "smean_h_all = pd.DataFrame()\n",
    "\n",
    "for i in cols:\n",
    "    smax = []\n",
    "    smean = []\n",
    "\n",
    "    for j in range(r):\n",
    "        c_hate = round(n_Hate_node * (i))\n",
    "\n",
    "        e_h = random.sample(hate_list, c_hate)\n",
    "        edgelist = weight_edge_all[\n",
    "            (~weight_edge_all[\"source\"].isin(e_h)) & (~weight_edge_all[\"target\"].isin(e_h))\n",
    "        ]\n",
    "        G = nx.from_pandas_edgelist(edgelist, \"source\", \"target\")\n",
    "        s = [len(c) for c in sorted(nx.connected_components(G), key=len, reverse=True)]\n",
    "        smax.append(max(s) / G.number_of_nodes())\n",
    "        s.remove(max(s))\n",
    "        if len(s) != 0:\n",
    "            smean.append(sum(s) / len(s))\n",
    "        else:\n",
    "            smean.append(1)\n",
    "\n",
    "    smax_h_all[i] = copy.deepcopy(smax)\n",
    "    smean_h_all[i] = copy.deepcopy(smean)"
   ]
  },
  {
   "cell_type": "code",
   "execution_count": null,
   "metadata": {},
   "outputs": [],
   "source": [
    "smax_n_all = pd.DataFrame()\n",
    "smean_n_all = pd.DataFrame()\n",
    "\n",
    "for i in cols:\n",
    "    smax = []\n",
    "    smean = []\n",
    "\n",
    "    for j in range(r):\n",
    "        c_nohate = round(n_noHate_node * i)\n",
    "\n",
    "        e_n = random.sample(nohate_list, c_nohate)\n",
    "        edgelist = weight_edge_all[\n",
    "            (~weight_edge_all[\"source\"].isin(e_n)) & (~weight_edge_all[\"target\"].isin(e_n))\n",
    "        ]\n",
    "        G = nx.from_pandas_edgelist(edgelist, \"source\", \"target\")\n",
    "        s = [len(c) for c in sorted(nx.connected_components(G), key=len, reverse=True)]\n",
    "        smax.append(max(s) / G.number_of_nodes())\n",
    "        s.remove(max(s))\n",
    "        if len(s) != 0:\n",
    "            smean.append(sum(s) / len(s))\n",
    "        else:\n",
    "            smean.append(1)\n",
    "    smax_n_all[i] = copy.deepcopy(smax)\n",
    "    smean_n_all[i] = copy.deepcopy(smean)"
   ]
  },
  {
   "cell_type": "code",
   "execution_count": null,
   "metadata": {},
   "outputs": [],
   "source": [
    "index = smax_h_all.columns"
   ]
  },
  {
   "cell_type": "code",
   "execution_count": null,
   "metadata": {},
   "outputs": [],
   "source": [
    "m_smax_h_all = smax_h_all.mean()\n",
    "std_smax_h_all = smax_h_all.std()\n",
    "m_smean_h_all = smean_h_all.mean()\n",
    "std_smean_h_all = smean_h_all.std()\n",
    "\n",
    "m_smax_n_all = smax_n_all.mean()\n",
    "std_smax_n_all = smax_n_all.std()\n",
    "m_smean_n_all = smean_n_all.mean()\n",
    "std_smean_n_all = smean_n_all.std()"
   ]
  },
  {
   "cell_type": "code",
   "execution_count": null,
   "metadata": {
    "scrolled": false
   },
   "outputs": [],
   "source": [
    "fig = plt.figure(figsize=(6, 5))\n",
    "plt.plot(index, m_smean_n_all, \"b--\", label=\"hate adjacent <s>\")\n",
    "plt.fill_between(\n",
    "    index, m_smean_n_all - std_smean_n_all, m_smean_n_all + std_smean_n_all, color=\"b\", alpha=0.2\n",
    ")\n",
    "plt.plot(index, m_smean_h_all, \"r--\", label=\"hate\")\n",
    "plt.fill_between(\n",
    "    index, m_smean_h_all - std_smean_h_all, m_smean_h_all + std_smean_h_all, color=\"r\", alpha=0.2\n",
    ")\n",
    "\n",
    "plt.legend()\n",
    "plt.xlim([0, 1])\n",
    "\n",
    "plt.title(\"<s>\")\n",
    "plt.xlabel(\"removed propotion of a type of nodes\")\n",
    "plt.ylabel(\"<s>\")\n",
    "\n",
    "fig.tight_layout()"
   ]
  },
  {
   "cell_type": "code",
   "execution_count": null,
   "metadata": {},
   "outputs": [],
   "source": [
    "fig = plt.figure(figsize=(6, 5))\n",
    "\n",
    "plt.plot(index, m_smax_n_all, \"b-\", label=\"hate adjacent S\")\n",
    "plt.fill_between(\n",
    "    index, m_smax_n_all - std_smax_n_all, m_smax_n_all + std_smax_n_all, color=\"b\", alpha=0.2\n",
    ")\n",
    "plt.plot(index, m_smax_h_all, \"r-\", label=\"hate nodes S\")\n",
    "plt.fill_between(\n",
    "    index, m_smax_h_all - std_smax_h_all, m_smax_h_all + std_smax_h_all, color=\"r\", alpha=0.2\n",
    ")\n",
    "plt.legend()\n",
    "plt.xlim([0, 1])\n",
    "\n",
    "plt.title(\"S\")\n",
    "plt.xlabel(\"removed propotion of a type of nodes\")\n",
    "plt.ylabel(\"S\")\n",
    "\n",
    "fig.tight_layout()"
   ]
  },
  {
   "cell_type": "code",
   "execution_count": null,
   "metadata": {},
   "outputs": [],
   "source": []
  }
 ],
 "metadata": {
  "kernelspec": {
   "display_name": "Python 3 (ipykernel)",
   "language": "python",
   "name": "python3"
  },
  "language_info": {
   "codemirror_mode": {
    "name": "ipython",
    "version": 3
   },
   "file_extension": ".py",
   "mimetype": "text/x-python",
   "name": "python",
   "nbconvert_exporter": "python",
   "pygments_lexer": "ipython3",
   "version": "3.11.4"
  }
 },
 "nbformat": 4,
 "nbformat_minor": 4
}
